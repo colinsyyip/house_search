{
 "cells": [
  {
   "cell_type": "code",
   "execution_count": 1,
   "metadata": {},
   "outputs": [],
   "source": [
    "import json\n",
    "import requests\n",
    "from bs4 import BeautifulSoup\n",
    "import re\n",
    "from datetime import datetime\n",
    "import utils"
   ]
  },
  {
   "cell_type": "code",
   "execution_count": 2,
   "metadata": {},
   "outputs": [],
   "source": [
    "target_domains = [\n",
    "    \"https://www.room.nl/en/\",\n",
    "    \"https://kamernet.nl/en\",\n",
    "    \"https://www.funda.nl/en/\",\n",
    "    \"https://www.pararius.com/english\"\n",
    "]\n",
    "\n",
    "domain = target_domains[1]"
   ]
  },
  {
   "cell_type": "code",
   "execution_count": 3,
   "metadata": {},
   "outputs": [],
   "source": [
    "init_search_url = \"https://kamernet.nl/en/for-rent/rooms-leiden?radius=5&minSize=2&maxRent=0&searchview=1&typeAndCity=rooms-leiden&pageNo=1\""
   ]
  },
  {
   "cell_type": "code",
   "execution_count": 4,
   "metadata": {},
   "outputs": [],
   "source": [
    "r = requests.get(init_search_url)\n",
    "resp_text = r.text\n",
    "soup = BeautifulSoup(resp_text)\n",
    "listing_cards = soup.find_all('a', attrs = {'class': re.compile(\"^MuiTypography-root.*ListingCard.*\")})"
   ]
  },
  {
   "cell_type": "code",
   "execution_count": 41,
   "metadata": {},
   "outputs": [],
   "source": [
    "post_resp = requests.post(\"https://kamernet.nl/services/api/listing/findlistings\",\n",
    "                json = {\"location\":{\"name\":\"Leiden\",\"cityName\":\"Leiden\"},\"radiusId\":4,\"listingTypeIds\":[],\"maxRentalPriceId\":33,\"surfaceMinimumId\":2,\"listingSortOptionId\":1,\"pageNo\":2,\"suitableForGenderIds\":[],\"furnishings\":[],\"availabilityPeriods\":[],\"availableFromDate\":None,\"isBathroomPrivate\":None,\"isToiletPrivate\":None,\"isKitchenPrivate\":None,\"hasInternet\":None,\"suitableForNumberOfPersonsId\":None,\"candidateAge\":None,\"suitableForStatusIds\":[],\"isSmokingInsideAllowed\":None,\"isPetsInsideAllowed\":None,\"roommateMaxNumberId\":None,\"roommateGenderIds\":[],\"ownerTypeIds\":[],\"variant\":None,\"searchview\":1,\"rowsPerPage\":18,\"OpResponse\":{\"Code\":1000,\"Message\":\"Operation successful.\",\"HttpStatusCode\":200},\"LogEntryId\":None}).text"
   ]
  },
  {
   "cell_type": "code",
   "execution_count": 14,
   "metadata": {},
   "outputs": [],
   "source": [
    "def month_enum(text):\n",
    "    month_map = {\n",
    "        \"Jan\": 1, \"Feb\": 2, \"Mar\": 3,\n",
    "        \"Apr\": 4, \"May\": 5, \"Jun\": 6,\n",
    "        \"Jul\": 7, \"Aug\": 8, \"Sep\": 9,\n",
    "        \"Oct\": 10, \"Nov\": 11, \"Dec\": 12\n",
    "    }\n",
    "    narrowed_map = {k: v for k, v in month_map.items() if k in text}\n",
    "    found_key = list(narrowed_map.keys())[0]\n",
    "    return re.sub(found_key, str(narrowed_map[found_key]), text)\n",
    "\n",
    "\n",
    "def month_convert(date_text):\n",
    "    numeric_switched_date = month_enum(date_text)\n",
    "    return datetime.strptime(numeric_switched_date, \"%d %m %Y\")\n",
    "\n",
    "\n",
    "def card_ids_get(listing_card):\n",
    "    card_url = listing_card.get('href').replace(\" \", \"-\")\n",
    "    listing_id = re.search(\"\\d*$\", card_url).group()\n",
    "\n",
    "    return {'listingId': listing_id, 'url_append': card_url}\n",
    "\n",
    "\n",
    "def card_availability_range(card_info_div):\n",
    "    availability_p = card_info_div.find_all('p', attrs = {'class': re.compile(\"^MuiTypography-root MuiTypography-body2 mui-style-.*\")})[1]\n",
    "    availability_text = availability_p.text\n",
    "    full_date_extract_regex = \"(?:\\d{1,2})\\s(?:Jan|Feb|Mar|Apr|May|Jun|Jul|Aug|Sep|Oct|Nov|Dec){1}\\s(?:\\d{4})\"\n",
    "    if \"From\" in availability_text:\n",
    "        availability_date_str = re.search(full_date_extract_regex, availability_text).group()\n",
    "        avail_start_date = month_convert(availability_date_str)\n",
    "        avail_end_date = None\n",
    "    else:\n",
    "        availability_date_strs = re.findall(full_date_extract_regex, availability_text)\n",
    "        if len(availability_date_strs) > 1:\n",
    "            converted_availability_dates = [month_convert(x) for x in availability_date_strs]\n",
    "            avail_start_date = converted_availability_dates[0]\n",
    "            avail_end_date = converted_availability_dates[1]\n",
    "        elif \"-\" in availability_text:\n",
    "            avail_end_date_raw = re.search(full_date_extract_regex, availability_text).group()\n",
    "            avail_end_date = month_convert(avail_end_date_raw)\n",
    "            end_date_str_idx = availability_text.index(avail_end_date_raw)\n",
    "            start_date_md = availability_text[:end_date_str_idx].strip(\"- \")\n",
    "            rebuilt_start_date_raw = \"%s %s\" % (start_date_md, str(avail_end_date.year))\n",
    "            avail_start_date = month_convert(rebuilt_start_date_raw)\n",
    "        else:\n",
    "            avail_start_date = None\n",
    "            avail_end_date = None\n",
    "    return {\"availabilityStartDate\": avail_start_date, \"availabilityEndDate\": avail_end_date}\n",
    "\n",
    "\n",
    "def card_street_city(card_rows, street_city_idx: int = 0):\n",
    "    street_city = card_rows[street_city_idx].find_all('h6')\n",
    "    street = street_city[0].text.strip(\",\")\n",
    "    city = street_city[1].text.strip(\",\")\n",
    "    return {\"street\": street, \"city\": city}\n",
    "\n",
    "\n",
    "def card_listing_details(card_rows, listing_details_idx: int = 1):\n",
    "    listing_details = card_rows[listing_details_idx].find_all('p')\n",
    "    listing_details_strs = [x.text.replace(\" m²\", \"\") for x in listing_details]\n",
    "    listing_detail_keys = [\"surfaceArea\", \"furnishingId\", \"listingType\"]\n",
    "    return {k: v for k, v in zip(listing_detail_keys, listing_details_strs)}\n",
    "\n",
    "\n",
    "def card_rent_value(card_rows, price_idx: int = 2):\n",
    "    price_value = card_rows[price_idx].text\n",
    "    if \"incl. utilities\" in price_value:\n",
    "        util_incl = True\n",
    "    else:\n",
    "        util_incl = False\n",
    "    price_re_find = re.findall(\"\\d*\", price_value)\n",
    "    price_num = int(\"\".join([x for x in price_re_find if x != '']))\n",
    "    return {\"totalRentalPrice\": price_num, \"utilitiesIncluded\": util_incl}\n",
    "\n",
    "\n",
    "def card_new_chip_check(listing_card):\n",
    "    new_chips = listing_card.find_all(\"span\", attrs = {\"class\": \"MuiChip-label MuiChip-labelMedium mui-style-9iedg7\"})\n",
    "    if len(new_chips) == 1:\n",
    "        is_new = True\n",
    "    else:\n",
    "        is_new = False\n",
    "    is_new_dict = {'isNewAdvert': is_new}\n",
    "    return is_new_dict"
   ]
  },
  {
   "cell_type": "code",
   "execution_count": 15,
   "metadata": {},
   "outputs": [],
   "source": [
    "skinny_listing_data = []\n",
    "for listing_card in listing_cards:\n",
    "    result_dict = {}\n",
    "\n",
    "    card_info_div = listing_card.find('div', attrs = {'class': re.compile(\"^MuiCardContent-root ListingCard_cardContent__.*\")})\n",
    "    card_rows = card_info_div.find_all('div', attrs = {'class': re.compile(\"^ListingCard_listingRo.*\")})\n",
    "\n",
    "    result_dict.update(card_ids_get(listing_card))\n",
    "\n",
    "    result_dict.update(card_availability_range(card_info_div))\n",
    "    \n",
    "    result_dict.update(card_street_city(card_rows))\n",
    "\n",
    "    result_dict.update(card_listing_details(card_rows))\n",
    "\n",
    "    result_dict.update(card_rent_value(card_rows))\n",
    "\n",
    "    result_dict.update(card_new_chip_check(listing_card))\n",
    "\n",
    "    skinny_listing_data.append(result_dict)"
   ]
  },
  {
   "cell_type": "code",
   "execution_count": 42,
   "metadata": {},
   "outputs": [
    {
     "data": {
      "text/plain": [
       "dict_keys(['listings', 'topAdListings', 'nearbyListings', 'total', 'OpResponse', 'LogEntryId'])"
      ]
     },
     "execution_count": 42,
     "metadata": {},
     "output_type": "execute_result"
    }
   ],
   "source": [
    "post_resp_dict = json.loads(post_resp)\n",
    "post_resp_dict.keys()"
   ]
  },
  {
   "cell_type": "code",
   "execution_count": 15,
   "metadata": {},
   "outputs": [],
   "source": [
    "mapping_f = open(\"db_mappings/kamernet_mapping.json\")\n",
    "db_mapping_dict = json.load(mapping_f)\n",
    "\n",
    "key_converted_listing_data = []\n",
    "\n",
    "for skinny_listing in skinny_listing_data:\n",
    "    key_swapped_listing = {db_mapping_dict[k]: v for k, v in skinny_listing.items()}\n",
    "    key_swapped_listing['domain'] = domain\n",
    "    key_converted_listing_data.append(key_swapped_listing)"
   ]
  },
  {
   "cell_type": "code",
   "execution_count": 17,
   "metadata": {},
   "outputs": [],
   "source": [
    "utils.push_to_db(key_converted_listing_data)"
   ]
  },
  {
   "cell_type": "code",
   "execution_count": null,
   "metadata": {},
   "outputs": [],
   "source": []
  }
 ],
 "metadata": {
  "kernelspec": {
   "display_name": "house_search",
   "language": "python",
   "name": "python3"
  },
  "language_info": {
   "codemirror_mode": {
    "name": "ipython",
    "version": 3
   },
   "file_extension": ".py",
   "mimetype": "text/x-python",
   "name": "python",
   "nbconvert_exporter": "python",
   "pygments_lexer": "ipython3",
   "version": "3.11.5"
  },
  "orig_nbformat": 4
 },
 "nbformat": 4,
 "nbformat_minor": 2
}
