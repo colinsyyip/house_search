{
 "cells": [
  {
   "cell_type": "code",
   "execution_count": 12,
   "metadata": {},
   "outputs": [],
   "source": [
    "import json\n",
    "import requests\n",
    "from copy import deepcopy\n",
    "import os\n",
    "import sys\n",
    "\n",
    "CURR_DIR = os.getcwd()\n",
    "PARENT_DIR = \"/\".join(CURR_DIR.split(\"/\")[:-1])\n",
    "sys.path.append(PARENT_DIR)\n",
    "import utils"
   ]
  },
  {
   "cell_type": "code",
   "execution_count": 13,
   "metadata": {},
   "outputs": [],
   "source": [
    "target_domains = [\n",
    "    \"https://www.room.nl/en/\",\n",
    "    \"https://kamernet.nl/en\",\n",
    "    \"https://www.funda.nl/en/\",\n",
    "    \"https://www.pararius.com/english\"\n",
    "]\n",
    "\n",
    "domain = target_domains[0]"
   ]
  },
  {
   "cell_type": "code",
   "execution_count": 14,
   "metadata": {},
   "outputs": [],
   "source": [
    "n_results = 25"
   ]
  },
  {
   "cell_type": "code",
   "execution_count": 15,
   "metadata": {},
   "outputs": [],
   "source": [
    "search_domain = \"https://roomapi.hexia.io/api/v1/actueel-aanbod?\"\n",
    "search_params = \"limit=%s&locale=en_GB&page=0&sort=-publicationDate\" % n_results\n",
    "\n",
    "search_url = search_domain + search_params\n",
    "\n",
    "resp = requests.post(search_url)\n",
    "resp_dict = json.loads(resp.text)"
   ]
  },
  {
   "cell_type": "code",
   "execution_count": 6,
   "metadata": {},
   "outputs": [],
   "source": [
    "n_total_results = resp_dict['_metadata']['total_search_count']\n",
    "updated_search_params = \"limit=%s&locale=en_GB&page=0&sort=-publicationDate\" % n_total_results\n",
    "\n",
    "updated_search_url = search_domain + updated_search_params\n",
    "\n",
    "updated_resp = requests.post(updated_search_url)\n",
    "updated_resp_dict = json.loads(updated_resp.text)"
   ]
  },
  {
   "cell_type": "code",
   "execution_count": 7,
   "metadata": {},
   "outputs": [],
   "source": [
    "result_rentals = updated_resp_dict['data']"
   ]
  },
  {
   "cell_type": "code",
   "execution_count": 8,
   "metadata": {},
   "outputs": [],
   "source": [
    "L1_TARGET_RENTAL_KEYS = [\n",
    "    'ID', 'postalcode', 'street', 'houseNumber', 'houseNumberAddition',\n",
    "    'gemeenteGeoLocatieNaam', 'rentBuy', 'availableFromDate', 'areaDwelling',\n",
    "    'totalRent', 'netRent', 'calculationRent', 'serviceCosts', 'heatingCosts',\n",
    "    'additionalCosts', 'numberOfReactions', 'publicationDate', 'closingDate', \n",
    "    'isWoningruil', 'urlKey', 'infoveld', 'specifiekeVoorzieningen'\n",
    "]\n",
    "\n",
    "Ln_TARGET_RENTAL_KEYS = [\n",
    "    ['quarter', 'name'], ['corporation', 'name'], ['dwellingType', 'localizedName'],\n",
    "    ['sleepingRoom', 'amountOfRooms'], ['sleepingRoom', 'naam'], ['kitchen', 'localizedName'],\n",
    "    ['floor', 'verdieping'], ['woningsoort', 'localizedNaam']\n",
    "]\n",
    "\n",
    "def retrieve_rental_data(obj_data, \n",
    "                         layer1_target_keys = L1_TARGET_RENTAL_KEYS.copy(), \n",
    "                         layern_target_keys = Ln_TARGET_RENTAL_KEYS.copy()):\n",
    "    results = {}\n",
    "    # Layer 1 handling for standard dict key value return\n",
    "    if layer1_target_keys is not None:\n",
    "        l1_results = {x: obj_data[x] for x in layer1_target_keys}\n",
    "        results.update(l1_results)\n",
    "        if layern_target_keys is None:\n",
    "            return l1_results\n",
    "    l2_results = {}\n",
    "    # Check for multi layer keys\n",
    "    for ln_key in layern_target_keys:\n",
    "        layernm1_key = ln_key.pop(0)\n",
    "        layernm1_obj = obj_data[layernm1_key]\n",
    "        # Final layer if length of key list is 1 - return value through l2_results\n",
    "        if len(ln_key) == 1:\n",
    "            ln_key_str = ln_key[0]\n",
    "            ln_result = retrieve_rental_data(layernm1_obj,\n",
    "                                             layer1_target_keys = ln_key,\n",
    "                                             layern_target_keys = None)\n",
    "            ln_result_key = \"%s_%s\" % (layernm1_key, ln_key_str)\n",
    "            l2_results[ln_result_key] = ln_result[ln_key_str]\n",
    "        # If key list is > 1, continue to dig with layer1_target_keys being None\n",
    "        elif len(ln_key) > 1:\n",
    "            ln_key_new_lead = ln_key[0]\n",
    "            ln_key_list_sub_keys = ln_key[1:]\n",
    "            if len(ln_key_list_sub_keys) == 1:\n",
    "                l2_results = retrieve_rental_data(layernm1_obj, layer1_target_keys = ln_key_list_sub_keys, layern_target_keys = None)\n",
    "            else:\n",
    "                l2_results = retrieve_rental_data(layernm1_obj, layer1_target_keys = None, layern_target_keys = [ln_key_list_sub_keys])\n",
    "        elif len(ln_key) == 0:\n",
    "            l2_results = {layernm1_key: layernm1_obj}\n",
    "            return l2_results\n",
    "    \n",
    "    results.update(l2_results)\n",
    "\n",
    "    return results"
   ]
  },
  {
   "cell_type": "code",
   "execution_count": 9,
   "metadata": {},
   "outputs": [],
   "source": [
    "mapping_f = open(\"db_mappings/room_mapping.json\")\n",
    "db_mapping_dict = json.load(mapping_f)"
   ]
  },
  {
   "cell_type": "code",
   "execution_count": 10,
   "metadata": {},
   "outputs": [],
   "source": [
    "short_results = []\n",
    "for rental_obj in result_rentals:\n",
    "    tmp_l1_keys = deepcopy(L1_TARGET_RENTAL_KEYS)\n",
    "    tmp_ln_keys = deepcopy(Ln_TARGET_RENTAL_KEYS)\n",
    "\n",
    "    if \"postalcode\" not in rental_obj and \"postalcode\" in tmp_l1_keys:\n",
    "        tmp_l1_keys.pop(tmp_l1_keys.index(\"postalcode\"))\n",
    "        if \"postcode\" in rental_obj:\n",
    "            tmp_l1_keys.append(\"postcode\")\n",
    "    \n",
    "    if \"street\" not in rental_obj:\n",
    "        continue\n",
    "\n",
    "    if \"houseNumber\" not in rental_obj:\n",
    "        continue\n",
    "\n",
    "    if \"gemeenteGeoLocatieNaam\" not in rental_obj:\n",
    "        continue\n",
    "\n",
    "    if rental_obj[\"gemeenteGeoLocatieNaam\"] is None:\n",
    "        continue\n",
    "\n",
    "    truncated_info_dict = retrieve_rental_data(rental_obj, tmp_l1_keys, tmp_ln_keys)\n",
    "    if \"specifiekeVoorzieningen\" in truncated_info_dict:\n",
    "        amenity_details = truncated_info_dict[\"specifiekeVoorzieningen\"]\n",
    "        amenity_list = [x['localizedName'] for x in amenity_details]\n",
    "        amenity_str = \", \".join(amenity_list)\n",
    "        truncated_info_dict['specifiekeVoorzieningen'] = amenity_str\n",
    "    truncated_info_dict['domain'] = domain\n",
    "    renamed_info_dict = {db_mapping_dict[k]: v for k, v in truncated_info_dict.items()}\n",
    "    short_results.append(renamed_info_dict)"
   ]
  },
  {
   "cell_type": "code",
   "execution_count": 10,
   "metadata": {},
   "outputs": [],
   "source": [
    "utils.push_to_db(short_results)"
   ]
  },
  {
   "cell_type": "code",
   "execution_count": null,
   "metadata": {},
   "outputs": [],
   "source": []
  }
 ],
 "metadata": {
  "kernelspec": {
   "display_name": "house_search",
   "language": "python",
   "name": "python3"
  },
  "language_info": {
   "codemirror_mode": {
    "name": "ipython",
    "version": 3
   },
   "file_extension": ".py",
   "mimetype": "text/x-python",
   "name": "python",
   "nbconvert_exporter": "python",
   "pygments_lexer": "ipython3",
   "version": "3.11.5"
  },
  "orig_nbformat": 4
 },
 "nbformat": 4,
 "nbformat_minor": 2
}
